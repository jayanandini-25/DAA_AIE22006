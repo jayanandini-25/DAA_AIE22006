{
  "nbformat": 4,
  "nbformat_minor": 0,
  "metadata": {
    "colab": {
      "provenance": []
    },
    "kernelspec": {
      "name": "python3",
      "display_name": "Python 3"
    },
    "language_info": {
      "name": "python"
    }
  },
  "cells": [
    {
      "cell_type": "code",
      "execution_count": 1,
      "metadata": {
        "colab": {
          "base_uri": "https://localhost:8080/",
          "height": 472
        },
        "id": "F1FzHnmRnjz8",
        "outputId": "04c0b9c1-b852-498f-f81f-84c1257d174d"
      },
      "outputs": [
        {
          "output_type": "display_data",
          "data": {
            "text/plain": [
              "<Figure size 640x480 with 1 Axes>"
            ],
            "image/png": "[encoded data removed]"
          },
          "metadata": {}
        }
      ],
      "source": [
        "import time\n",
        "import random\n",
        "import matplotlib.pyplot as plt\n",
        "\n",
        "# Selection sort algorithm\n",
        "def selection_sort(arr):\n",
        "    n = len(arr)\n",
        "    for i in range(n):\n",
        "        min_idx = i\n",
        "        for j in range(i + 1, n):\n",
        "            if arr[j] < arr[min_idx]:\n",
        "                min_idx = j\n",
        "        arr[i], arr[min_idx] = arr[min_idx], arr[i]\n",
        "\n",
        "# Insertion sort algorithm\n",
        "def insertion_sort(arr):\n",
        "    n = len(arr)\n",
        "    for i in range(1, n):\n",
        "        key = arr[i]\n",
        "        j = i - 1\n",
        "        while j >= 0 and key < arr[j]:\n",
        "            arr[j + 1] = arr[j]\n",
        "            j -= 1\n",
        "        arr[j + 1] = key\n",
        "\n",
        "#  1000 random integers between 1 and 10000\n",
        "random_numbers = [random.randint(1, 10000) for _ in range(1000)]\n",
        "\n",
        "# Measure time taken for sorting using different algorithms\n",
        "start_time = time.time()\n",
        "sorted_numbers_built_in = sorted(random_numbers)\n",
        "time_taken_built_in = time.time() - start_time\n",
        "\n",
        "start_time = time.time()\n",
        "selection_sort(random_numbers.copy())\n",
        "time_taken_selection = time.time() - start_time\n",
        "\n",
        "start_time = time.time()\n",
        "insertion_sort(random_numbers.copy())\n",
        "time_taken_insertion = time.time() - start_time\n",
        "\n",
        "# Plotting the results\n",
        "labels = ['Built-in Sort', 'Selection Sort', 'Insertion Sort']\n",
        "times = [time_taken_built_in, time_taken_selection, time_taken_insertion]\n",
        "\n",
        "plt.bar(labels, times)\n",
        "plt.xlabel('Sorting Algorithm')\n",
        "plt.ylabel('Time (seconds)')\n",
        "plt.title('Time Taken to Sort 1000 Random Integers')\n",
        "plt.show()\n"
      ]
    },
    {
      "cell_type": "code",
      "source": [
        "\n",
        "import heapq\n",
        "\n",
        "def merge_sorted_lists(lists):\n",
        "    merged = []\n",
        "    heap = [(lst[0], i, 0) for i, lst in enumerate(lists) if lst]\n",
        "    heapq.heapify(heap)\n",
        "\n",
        "    while heap:\n",
        "        val, list_idx, ele_idx = heapq.heappop(heap)\n",
        "        merged.append(val)\n",
        "        if ele_idx + 1 < len(lists[list_idx]):\n",
        "            next_val = lists[list_idx][ele_idx + 1]\n",
        "            heapq.heappush(heap, (next_val, list_idx, ele_idx + 1))\n",
        "\n",
        "    return merged\n",
        "\n",
        "#  number of lists\n",
        "m = int(input(\"Enter the number of lists: \"))\n",
        "n = int(input(\"Enter the number of elements per list: \"))\n",
        "\n",
        "# Taking user input for the lists\n",
        "lists = []\n",
        "for i in range(m):\n",
        "    lst = list(map(int, input(f\"Enter space-separated elements for list {i+1}: \").split()))\n",
        "    lists.append(lst)\n",
        "\n",
        "# Merging the sorted lists and printing the result\n",
        "result = merge_sorted_lists(lists)\n",
        "print(\"Merged sorted list:\", result)\n",
        "\n"
      ],
      "metadata": {
        "colab": {
          "base_uri": "https://localhost:8080/"
        },
        "id": "phyMAvvdoV_V",
        "outputId": "07f2e96e-91be-4772-9cae-e4cbcfcee0cc"
      },
      "execution_count": 3,
      "outputs": [
        {
          "output_type": "stream",
          "name": "stdout",
          "text": [
            "Enter the number of lists: 3\n",
            "Enter the number of elements per list: 3\n",
            "Enter space-separated elements for list 1: 1 2 4\n",
            "Enter space-separated elements for list 2: 5 7 8\n",
            "Enter space-separated elements for list 3: 9\n",
            "Merged sorted list: [1, 2, 4, 5, 7, 8, 9]\n"
          ]
        }
      ]
    },
    {
      "cell_type": "code",
      "source": [
        "def print_highest_k_values(arr, k):\n",
        "    # Print the highest k values from the sorted array\n",
        "    for i in range(len(arr) - 1, len(arr) - 1 - k, -1):\n",
        "        print(arr[i])\n",
        "\n",
        "# Taking user input for the array and k\n",
        "arr = list(map(int, input(\"Enter space-separated elements of the array: \").split()))\n",
        "k = int(input(\"Enter the value of k (number of highest values to print): \"))\n",
        "\n",
        "# Sort the array in ascending order\n",
        "arr.sort()\n",
        "\n",
        "# Print the highest k values\n",
        "print_highest_k_values(arr, k)\n"
      ],
      "metadata": {
        "id": "MvoDcSLSoky8",
        "outputId": "a1b8b5be-f542-4c2c-844c-544ecf91afdd",
        "colab": {
          "base_uri": "https://localhost:8080/"
        }
      },
      "execution_count": 4,
      "outputs": [
        {
          "output_type": "stream",
          "name": "stdout",
          "text": [
            "Enter space-separated elements of the array: 1 3 4 5 6\n",
            "Enter the value of k (number of highest values to print): 3\n",
            "6\n",
            "5\n",
            "4\n"
          ]
        }
      ]
    },
    {
      "cell_type": "code",
      "source": [
        "def activity_selection(activities):\n",
        "    activities.sort(key=lambda x: x[1])  # Sort by finish time\n",
        "    solution = []\n",
        "    last_finished = 0\n",
        "\n",
        "    for start, finish in activities:\n",
        "        if start >= last_finished:\n",
        "            solution.append((start, finish))\n",
        "            last_finished = finish\n",
        "\n",
        "    return solution\n",
        "\n",
        "# Example usage:\n",
        "activities = [(1, 4), (3, 5), (0, 6), (5, 7), (3, 8), (5, 9), (6, 10), (8, 11), (8, 12), (2, 13), (12, 14)]\n",
        "selected_activities = activity_selection(activities)\n",
        "print(selected_activities)\n"
      ],
      "metadata": {
        "id": "29_c8xFipWP6",
        "outputId": "a551bf57-f948-4585-b946-d4cf75f12c1d",
        "colab": {
          "base_uri": "https://localhost:8080/"
        }
      },
      "execution_count": 5,
      "outputs": [
        {
          "output_type": "stream",
          "name": "stdout",
          "text": [
            "[(1, 4), (5, 7), (8, 11), (12, 14)]\n"
          ]
        }
      ]
    },
    {
      "cell_type": "code",
      "source": [
        "def merge_intervals(intervals):\n",
        "\n",
        "\n",
        "  # Sort the intervals based on their starting times\n",
        "  intervals.sort(key=lambda x: x[0])\n",
        "\n",
        "  merged_intervals = []\n",
        "  # Initialize the first interval in the merged list\n",
        "  current_interval = intervals[0]\n",
        "\n",
        "  # Iterate through the remaining intervals\n",
        "  for interval in intervals[1:]:\n",
        "    # If the current interval overlaps with the next interval\n",
        "    if current_interval[1] >= interval[0]:\n",
        "      # Merge the overlapping intervals by extending the end time of the current interval\n",
        "      current_interval = (current_interval[0], max(current_interval[1], interval[1]))\n",
        "    else:\n",
        "      # If there is no overlap, add the current interval to the merged list and start a new one\n",
        "      merged_intervals.append(current_interval)\n",
        "      current_interval = interval\n",
        "\n",
        "  # Add the last interval to the merged list\n",
        "  merged_intervals.append(current_interval)\n",
        "\n",
        "  return merged_intervals\n",
        "\n",
        "# Example\n",
        "intervals = [(1, 4), (2, 5), (1, 3), (7, 8), (6, 9)]\n",
        "merged_intervals = merge_intervals(intervals)\n",
        "print(merged_intervals)\n"
      ],
      "metadata": {
        "id": "b3hrFAiuphVv",
        "outputId": "e4d2cb30-8bce-4075-b891-33242f300920",
        "colab": {
          "base_uri": "https://localhost:8080/"
        }
      },
      "execution_count": 6,
      "outputs": [
        {
          "output_type": "stream",
          "name": "stdout",
          "text": [
            "[(1, 5), (6, 9)]\n"
          ]
        }
      ]
    }
  ]
}