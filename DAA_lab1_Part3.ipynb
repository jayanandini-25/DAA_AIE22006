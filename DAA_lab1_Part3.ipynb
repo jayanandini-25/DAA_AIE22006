{
  "nbformat": 4,
  "nbformat_minor": 0,
  "metadata": {
    "colab": {
      "provenance": []
    },
    "kernelspec": {
      "name": "python3",
      "display_name": "Python 3"
    },
    "language_info": {
      "name": "python"
    }
  },
  "cells": [
    {
      "cell_type": "code",
      "execution_count": 2,
      "metadata": {
        "colab": {
          "base_uri": "https://localhost:8080/"
        },
        "id": "cVwlnNwvo9Hz",
        "outputId": "0fdef7ac-4fa1-44f3-ee77-9dbbaffd0133"
      },
      "outputs": [
        {
          "output_type": "stream",
          "name": "stdout",
          "text": [
            "Quadratic Algorithm:\n",
            "True\n",
            "\n",
            "Linear Logarithmic Algorithm:\n",
            "True\n"
          ]
        }
      ],
      "source": [
        "# 6th question\n",
        "def find_pair_sum_quadratic(arr, K):\n",
        "    n = len(arr)\n",
        "    for i in range(n):\n",
        "        for j in range(i+1, n):\n",
        "            if arr[i] + arr[j] == K:\n",
        "                return True\n",
        "    return False\n",
        "\n",
        "def find_pair_sum_linear_log(arr, K):\n",
        "    arr.sort()  # Sort the array\n",
        "    left = 0\n",
        "    right = len(arr) - 1\n",
        "\n",
        "    while left < right:\n",
        "        current_sum = arr[left] + arr[right]\n",
        "        if current_sum == K:\n",
        "            return True\n",
        "        elif current_sum < K:\n",
        "            left += 1\n",
        "        else:\n",
        "            right -= 1\n",
        "\n",
        "    return False\n",
        "\n",
        "# for O(n^2) algorithm\n",
        "arr = [8, 4, 1, 6]\n",
        "K = 10\n",
        "print(\"Quadratic Algorithm:\")\n",
        "print(find_pair_sum_quadratic(arr, K))  # Output: True (4 and 6)\n",
        "\n",
        "# O(nlogn) algorithm\n",
        "arr = [8, 4, 1, 6]\n",
        "K = 10\n",
        "print(\"\\nLinear Logarithmic Algorithm:\")\n",
        "print(find_pair_sum_linear_log(arr, K))  # Output: True (4 and 6)\n"
      ]
    },
    {
      "cell_type": "code",
      "source": [
        "def find_pair_with_sum(nums, target):\n",
        "\n",
        "\n",
        "    seen = set()\n",
        "    for num in nums:\n",
        "        complement = target - num\n",
        "        if complement in seen:\n",
        "            return num, complement\n",
        "        seen.add(num)\n",
        "\n",
        "    return None\n",
        "\n",
        "# Get user input for the array\n",
        "nums = []\n",
        "while True:\n",
        "    num_str = input(\"Enter an integer (or 'done' to finish): \")\n",
        "    if num_str == 'done':\n",
        "        break\n",
        "    try:\n",
        "        num = int(num_str)\n",
        "        nums.append(num)\n",
        "    except ValueError:\n",
        "        print(\"Invalid input. Please enter an integer.\")\n",
        "\n",
        "# Get user input for the target sum\n",
        "while True:\n",
        "    try:\n",
        "        target = int(input(\"Enter the target sum: \"))\n",
        "        break\n",
        "    except ValueError:\n",
        "        print(\"Invalid input. Please enter an integer.\")\n",
        "\n",
        "# Find the pair and print the result\n",
        "pair = find_pair_with_sum(nums, target)\n",
        "if pair:\n",
        "    print(\"Pair found:\", pair)\n",
        "else:\n",
        "    print(\"Pair not found\")\n"
      ],
      "metadata": {
        "colab": {
          "base_uri": "https://localhost:8080/"
        },
        "id": "b2T32fGkqHTa",
        "outputId": "8c660560-d76c-45c4-c0ea-f6b82a64be6e"
      },
      "execution_count": 5,
      "outputs": [
        {
          "output_type": "stream",
          "name": "stdout",
          "text": [
            "Enter an integer (or 'done' to finish): 2\n",
            "Enter an integer (or 'done' to finish): 3\n",
            "Enter an integer (or 'done' to finish): 6\n",
            "Enter an integer (or 'done' to finish): 4\n",
            "Enter an integer (or 'done' to finish): done\n",
            "Enter the target sum: 9\n",
            "Pair found: (6, 3)\n"
          ]
        }
      ]
    },
    {
      "cell_type": "code",
      "source": [
        "\n",
        "def find_max_product_pair(nums):\n",
        "\n",
        "    if len(nums) < 2:\n",
        "        return None  # Handle empty or single-element arrays\n",
        "\n",
        "    max_product = float('-inf')  # Initialize with negative infinity\n",
        "    max_pair = None\n",
        "\n",
        "    for i in range(len(nums) - 1):\n",
        "        for j in range(i + 1, len(nums)):\n",
        "            product = nums[i] * nums[j]\n",
        "            if product > max_product:\n",
        "                max_product = product\n",
        "                max_pair = (nums[i], nums[j])\n",
        "\n",
        "    return max_pair\n",
        "\n",
        "# Get user input for the array\n",
        "nums = []\n",
        "while True:\n",
        "    num_str = input(\"Enter an integer (or 'done' to finish): \")\n",
        "    if num_str == 'done':\n",
        "        break\n",
        "    try:\n",
        "        num = int(num_str)\n",
        "        nums.append(num)\n",
        "    except ValueError:\n",
        "        print(\"Invalid input. Please enter an integer.\")\n",
        "\n",
        "# Find the pair with maximum product and print the result\n",
        "pair = find_max_product_pair(nums)\n",
        "if pair:\n",
        "    print(\"Pair with maximum product:\", pair)\n",
        "else:\n",
        "    print(\"Array is empty or has less than two elements\")\n"
      ],
      "metadata": {
        "colab": {
          "base_uri": "https://localhost:8080/"
        },
        "id": "hDH1BUtuqrwB",
        "outputId": "fe020a54-464c-4152-8b55-76043e0245a7"
      },
      "execution_count": 7,
      "outputs": [
        {
          "output_type": "stream",
          "name": "stdout",
          "text": [
            "Enter an integer (or 'done' to finish): 3\n",
            "Enter an integer (or 'done' to finish): 5\n",
            "Enter an integer (or 'done' to finish): 6\n",
            "Enter an integer (or 'done' to finish): 9\n",
            "Enter an integer (or 'done' to finish): done\n",
            "Pair with maximum product: (6, 9)\n"
          ]
        }
      ]
    },
    {
      "cell_type": "code",
      "source": [
        "def sort_ascending(arr):\n",
        "\n",
        "  n = len(arr)\n",
        "  for i in range(n):\n",
        "    # Find the index of the minimum element in the unsorted part\n",
        "    min_index = i\n",
        "    for j in range(i + 1, n):\n",
        "      if arr[j] < arr[min_index]:\n",
        "        min_index = j\n",
        "\n",
        "    # Swap the found minimum element with the first element of the unsorted part\n",
        "    if min_index != i:\n",
        "      arr[i], arr[min_index] = arr[min_index], arr[i]\n",
        "\n",
        "  return arr\n",
        "\n",
        "# Get user input for the array\n",
        "arr = []\n",
        "while True:\n",
        "  num_str = input(\"Enter an integer (or 'done' to finish): \")\n",
        "  if num_str == 'done':\n",
        "    break\n",
        "  try:\n",
        "    num = int(num_str)\n",
        "    arr.append(num)\n",
        "  except ValueError:\n",
        "    print(\"Invalid input. Please enter an integer.\")\n",
        "\n",
        "# Sort the array and print the result\n",
        "sorted_arr = sort_ascending(arr.copy())  # Sort a copy to avoid modifying the original\n",
        "print(\"Sorted array:\", sorted_arr)\n"
      ],
      "metadata": {
        "colab": {
          "base_uri": "https://localhost:8080/"
        },
        "id": "liJxZV8arlXE",
        "outputId": "3301c9a4-0b57-4b82-cd58-3c678cfa27db"
      },
      "execution_count": 8,
      "outputs": [
        {
          "output_type": "stream",
          "name": "stdout",
          "text": [
            "Enter an integer (or 'done' to finish): 2\n",
            "Enter an integer (or 'done' to finish): 3\n",
            "Enter an integer (or 'done' to finish): 4\n",
            "Enter an integer (or 'done' to finish): done\n",
            "Sorted array: [2, 3, 4]\n"
          ]
        }
      ]
    },
    {
      "cell_type": "code",
      "source": [
        "def segregate_0s_1s(arr):\n",
        "    left = 0\n",
        "    right = len(arr) - 1\n",
        "\n",
        "    while left < right:\n",
        "        while arr[left] == 0 and left < right:\n",
        "            left += 1\n",
        "        while arr[right] == 1 and left < right:\n",
        "            right -= 1\n",
        "\n",
        "        if left < right:\n",
        "            arr[left], arr[right] = arr[right], arr[left]\n",
        "            left += 1\n",
        "            right -= 1\n",
        "\n",
        "    return arr\n",
        "\n",
        "# Get user input for the array\n",
        "arr = []\n",
        "while True:\n",
        "    num_str = input(\"Enter 0 or 1 (or 'done' to finish): \")\n",
        "    if num_str == 'done':\n",
        "        break\n",
        "    if num_str not in ('0', '1'):\n",
        "        print(\"Invalid input. Please enter 0 or 1.\")\n",
        "        continue\n",
        "    num = int(num_str)\n",
        "    arr.append(num)\n",
        "\n",
        "# Segregate the array and print the result\n",
        "segregated_arr = segregate_0s_1s(arr.copy())  # Segregate a copy to avoid modifying the original\n",
        "print(\"Segregated array:\", segregated_arr)\n"
      ],
      "metadata": {
        "colab": {
          "base_uri": "https://localhost:8080/"
        },
        "id": "sIHHhajlrrtR",
        "outputId": "7aaf1b74-15f9-4ef7-f092-2d162ea77592"
      },
      "execution_count": 9,
      "outputs": [
        {
          "output_type": "stream",
          "name": "stdout",
          "text": [
            "Enter 0 or 1 (or 'done' to finish): 1\n",
            "Enter 0 or 1 (or 'done' to finish): 0\n",
            "Enter 0 or 1 (or 'done' to finish): 1\n",
            "Enter 0 or 1 (or 'done' to finish): done\n",
            "Segregated array: [0, 1, 1]\n"
          ]
        }
      ]
    }
  ]
}